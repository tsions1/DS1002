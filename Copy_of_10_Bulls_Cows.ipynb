{
  "cells": [
    {
      "cell_type": "markdown",
      "metadata": {
        "id": "view-in-github",
        "colab_type": "text"
      },
      "source": [
        "<a href=\"https://colab.research.google.com/github/tsions1/DS1002/blob/main/Copy_of_10_Bulls_Cows.ipynb\" target=\"_parent\"><img src=\"https://colab.research.google.com/assets/colab-badge.svg\" alt=\"Open In Colab\"/></a>"
      ]
    },
    {
      "cell_type": "markdown",
      "metadata": {
        "id": "lSwr8T3SNrkj"
      },
      "source": [
        "## Bulls and Cows:\n",
        "### Another guessing game.\n",
        "### Assignment due Wednesday 10 April at 10 am\n",
        "\n",
        "General instructions:\n",
        "\n",
        "1. You may work in teams of up to three people.  As usual, if you do this, make sure all names are clearly displayed at the top of your submission, and all team members should submit the same GitHub URL.\n",
        "\n",
        "1. Use only basic Python code.  Do not use `numpy` arrays or functions.\n",
        "\n",
        "2. Practice utilizing the coding concepts we have studied.  \n",
        "\n",
        "3. Write docstrings for all your functions.\n",
        "\n"
      ]
    },
    {
      "cell_type": "markdown",
      "source": [
        "**Name: Eden Mulugeta, Tsion Sahle **"
      ],
      "metadata": {
        "id": "cEfGXksw92vd"
      }
    },
    {
      "cell_type": "markdown",
      "metadata": {
        "id": "qrWRyeI2NwHA"
      },
      "source": [
        "### Goal:  program this game\n",
        "In this assignment you will program a version of an old game called Bulls and Cows.  It is somewhat similar to Wordle, but with numbers instead of words (and various other differences . . . read carefully!).\n",
        "\n",
        "The game is played like this:  \n",
        "1. The computer will choose a secret code that the player is trying to guess.\n",
        "2. The secret code will be 4 digits long.  It will use only the digits 1-6, and it will have no repeated digits.  For example the secret code might be 1326 or 6241 but it cannot be 2652 or 4913 or 2601.\n",
        "3. The computer will prompt the user for a guess, and the user will guess.  The guess must follow the same rules (4 digits long, only use digits 1-6, no repeats).  The program should not allow an invalid guess.\n",
        "4. After each guess, the computer will give feedback to the user as follows:  \n",
        "(i) Each digit of the guess that is in the secret code and in the correct position is called a Bull (B).  \n",
        "(ii) Each digit of the guess that exists somewhere in the secret code, but *not* in the same position as in the guess, is called a Cow (C).  \n",
        "(iii) A digit of the guess that doesn't occur anywhere in the secret code is called a miss (X).  \n",
        "The computer will inform the user how many Bulls, how many Cows, and how many misses the user's guess had.  \n",
        "The feedback will always start with B's, then list C's, then list X's.  \n",
        "For example if the secret code is 1326  \n",
        "and the guess is 4316  \n",
        "then the computer should respond with \"BBCX\"  \n",
        "because there are two Bulls (the 3 and the 6 are Bulls, because they occur in the same position in the guess as in the secret code),  \n",
        "one Cow (the 1, which is a correct digit but in the wrong position),  \n",
        "and one Miss (the 4, which does not occur anywhere in the secret code).  \n",
        "> **Important:** the feedback string should always list the Bulls first, then the Cows, then the Misses.  It should **not** tell the user which digits are which!  The only information in the feedback string is how many of each there are.  In the example above, for instance, the feedback is **not** \"XBCB\" but rather \"BBCX\".  This is different from Wordle, if you are familiar with that game.\n",
        "5. The user should then be prompted for another guess.  This guess-with-feedback process should be repeated until the user gets the correct code, at which point the computer should indicate that they have won the game.  However, the user should only be allowed 6 guesses; if they don't guess correctly in 6 attempts, then following the feedback from their final guess they should get a message that they have lost the game, and the secret code should be revealed.\n",
        "\n",
        "\n",
        "\n",
        "\n",
        "\n",
        "\n",
        "\n"
      ]
    },
    {
      "cell_type": "markdown",
      "source": [
        "### Steps\n",
        "We will build this game using several functions.  \n",
        "\n",
        "1. **Count the Bulls:**  \n",
        "Write a function that takes two lists of the same length, and returns the number of Bulls.  That is, it should return the number of indices where the lists contain the same element.  *(Note:  you don't have to check that the entries are between 1 and 6, or that there are no repeats, etc.  A different function will do that.)*\n",
        "\n",
        "> A sample run might look like\n",
        "```\n",
        "first = [11, 3, 17, 5, 1]\n",
        "second = [20, 2, 17, 3, 1]\n",
        "count_bulls(first,second)\n",
        "```\n",
        "```\n",
        " 2\n",
        "```\n"
      ],
      "metadata": {
        "id": "XSH1JULaurD1"
      }
    },
    {
      "cell_type": "markdown",
      "source": [
        "Define your function in the code chunk below.  The function definition command and the return command are pre-populated for you.  You just have to fill in the part which does the actual counting.  I recommend using a list comprehension to do this.\n"
      ],
      "metadata": {
        "id": "pXoOyBk7xmPa"
      }
    },
    {
      "cell_type": "code",
      "source": [
        "# the Bull-counting function\n",
        "def count_bulls(first, second):\n",
        "  '''\n",
        "  Takes two lists of the same length and computes the number of positions where the list entries agree.\n",
        "  '''\n",
        "   # finish this line of code to make the function function!\n",
        "  num_of_bulls = 0\n",
        "  for i in range(len(first)):\n",
        "    if first [i] == second[i]:\n",
        "      num_of_bulls += 1\n",
        "  return num_of_bulls"
      ],
      "metadata": {
        "id": "vEsRSe8KxlcF"
      },
      "execution_count": null,
      "outputs": []
    },
    {
      "cell_type": "code",
      "source": [
        "print(\"The number of bulls:\", count_bulls(first, second))"
      ],
      "metadata": {
        "colab": {
          "base_uri": "https://localhost:8080/"
        },
        "id": "RHUrrRZEuPZR",
        "outputId": "1a718d14-d9fc-4da1-eb4e-58a5374e44b9"
      },
      "execution_count": null,
      "outputs": [
        {
          "output_type": "stream",
          "name": "stdout",
          "text": [
            "The number of bulls: 2\n"
          ]
        }
      ]
    },
    {
      "cell_type": "markdown",
      "source": [
        "Add code and/or text chunks below to demonstrate that you have tested your code and that it works correctly."
      ],
      "metadata": {
        "id": "yACJyJtOzE2U"
      }
    },
    {
      "cell_type": "markdown",
      "source": [
        "2. **Count something else:**  \n",
        "To count the cows it will be helpful first to count how many of the elements occur in both strings, without paying attention their positions.\n",
        "Write a function called `count_animals` that takes two lists of the same length, and returns the number of elements of the second list that are also in the first list.  (In the game setting, each such element is either a Bull or a Cow, but don't worry about which is which for this problem.)\n",
        "You may assume the lists do not contain repeated elements, since this will be the case when the function is called in the game.\n",
        "\n",
        "> This time a sample run might look like\n",
        "```\n",
        "first = [11, 3, 17, 5, 1]\n",
        "second = [20, 2, 17, 3, 1]\n",
        "count_animals(first,second)\n",
        "```\n",
        "```\n",
        " 3\n",
        "```\n",
        "\n",
        "This one isn't started for you.  Remember to include a docstring.  This can also be done using a list comprehension, similar to the previous function.\n",
        "\n"
      ],
      "metadata": {
        "id": "aMsOmejkzNVN"
      }
    },
    {
      "cell_type": "code",
      "source": [
        "# define your function here\n",
        "\n",
        "def count_animals(first, second):\n",
        "   '''\n",
        "   takes two lists of the same length, and returns the number of elements of the second list that are also in the first list.\n",
        "   '''\n",
        "   num_of_animals = 0\n",
        "   for x in second:\n",
        "    if x in first:\n",
        "      num_of_animals += 1\n",
        "   return num_of_animals"
      ],
      "metadata": {
        "id": "yRX219q02e6i"
      },
      "execution_count": null,
      "outputs": []
    },
    {
      "cell_type": "code",
      "source": [
        "first = [11, 3, 17, 5, 1]\n",
        "second = [20, 2, 17, 3, 1]\n",
        "print(\"The numbers of elements of the second list also in the first list:\", count_animals(first,second))"
      ],
      "metadata": {
        "colab": {
          "base_uri": "https://localhost:8080/"
        },
        "id": "CcLF1saDulpQ",
        "outputId": "a2dbd139-37c6-482c-eef0-47225965770d"
      },
      "execution_count": null,
      "outputs": [
        {
          "output_type": "stream",
          "name": "stdout",
          "text": [
            "The numbers of elements of the second list also in the first list: 3\n"
          ]
        }
      ]
    },
    {
      "cell_type": "markdown",
      "source": [
        "Again, demonstrate below that you have tested your code and that it works."
      ],
      "metadata": {
        "id": "HXRNwANS2f-4"
      }
    },
    {
      "cell_type": "markdown",
      "source": [
        "3. **Count the cows:**  \n",
        "Write a function called `count_cows` that counts the cows.  \n",
        "> This time a sample run might look like\n",
        "```\n",
        "first = [11, 3, 17, 5, 1]\n",
        "second = [20, 2, 17, 3, 1]\n",
        "count_cows(first,second)\n",
        "```\n",
        "```\n",
        " 1\n",
        "```\n",
        "*Use the two previously defined functions to help you!  \n",
        "In fact, remember that the only reason we wrote the `count_animals` function was to help count the cows.*\n",
        "\n",
        "You can do this with only two lines of code, not counting documentation!"
      ],
      "metadata": {
        "id": "x2DAPkxj2GMo"
      }
    },
    {
      "cell_type": "code",
      "source": [
        "# put the Cow counting function here\n",
        "def count_cows(first, second):\n",
        "  '''\n",
        "  count the cows only\n",
        "  '''\n",
        "  return count_animals(first, second) - count_bulls(first, second)"
      ],
      "metadata": {
        "id": "QnxnaOPI3YZO"
      },
      "execution_count": null,
      "outputs": []
    },
    {
      "cell_type": "code",
      "source": [
        "first = [11, 3, 17, 5, 1]\n",
        "second = [20, 2, 17, 3, 1]\n",
        "print('The number of cows:', count_cows(first, second))"
      ],
      "metadata": {
        "colab": {
          "base_uri": "https://localhost:8080/"
        },
        "id": "PEL-xedwuqb3",
        "outputId": "65afedd7-d631-4669-ae4c-3fdd4a9106db"
      },
      "execution_count": null,
      "outputs": [
        {
          "output_type": "stream",
          "name": "stdout",
          "text": [
            "The number of cows: 1\n"
          ]
        }
      ]
    },
    {
      "cell_type": "markdown",
      "metadata": {
        "id": "hWQhYDIVYjXr"
      },
      "source": [
        "4. **Create feedback string**  \n",
        "Write a `build_response_str` function that takes three numbers, say `b,c,l`, and outputs a string of total length `l` that consists of `b` B's, followed by `c` C's, and the rest X's (until the total length is `l`).\n",
        "\n",
        "> Sample run:\n",
        "```\n",
        "build_response_str(4,3,9)\n",
        "```\n",
        "```\n",
        "BBBBCCCXX\n",
        "```"
      ]
    },
    {
      "cell_type": "code",
      "source": [
        "# define your function here\n",
        "def build_response_str(b, c, l):\n",
        "  '''\n",
        "  takes three numbers to build response string consisting b B's, c C's, and the rest X's until the total length is 1\n",
        "  '''\n",
        "  response = ''\n",
        "  response += 'B' * b\n",
        "  response += 'C' * c\n",
        "  num_xs = l - b - c\n",
        "  response += 'X' * num_xs\n",
        "  return response"
      ],
      "metadata": {
        "id": "GSimWqUsMaPE"
      },
      "execution_count": null,
      "outputs": []
    },
    {
      "cell_type": "code",
      "source": [
        "print (build_response_str(4,3,9))"
      ],
      "metadata": {
        "colab": {
          "base_uri": "https://localhost:8080/"
        },
        "id": "dZyvNIvWuthN",
        "outputId": "44c05984-33ee-4c1b-a03e-0c32f3b9e300"
      },
      "execution_count": null,
      "outputs": [
        {
          "output_type": "stream",
          "name": "stdout",
          "text": [
            "BBBBCCCXX\n"
          ]
        }
      ]
    },
    {
      "cell_type": "markdown",
      "source": [
        "Test your code here."
      ],
      "metadata": {
        "id": "2D14kxTU7ApH"
      }
    },
    {
      "cell_type": "markdown",
      "metadata": {
        "id": "omzE6sLKwsMC"
      },
      "source": [
        "5.  **Generate feedback for guesses**  \n",
        "Write a function `response(first,second)` that takes two lists of the same length, and outputs a string consisting of some number of B's followed by some number of C's followed by some number of X's, where the numbers correspond to the things we counted above.  That is, if `first` were the secret code in the game and `second` were the user's guess, then we would print one B for each Bull, one C for each Cow, and one X for each Miss. The total output string should have the same length as the input strings.\n",
        "\n",
        "> Sample run:\n",
        "```\n",
        "first = [11, 3, 17, 5, 1]\n",
        "second = [20, 2, 17, 3, 1]\n",
        "response(first,second)\n",
        "```\n",
        "```\n",
        " BBCXX\n",
        "```\n",
        "\n",
        "With all the functions you've already put in place, this should be simple.  Test your code once it's written.\n"
      ]
    },
    {
      "cell_type": "code",
      "source": [
        "def response (first, second):\n",
        "  '''\n",
        "  A response/feedback (output) string to user guesses consisting of B's, C's, and X's corresponding what was counted above\n",
        "  '''\n",
        "  num_of_bulls = count_bulls(first, second)\n",
        "  num_of_cows = count_cows(first, second)\n",
        "  total_length = len(first)\n",
        "  guess_feedback = build_response_str(num_of_bulls, num_of_cows, total_length)\n",
        "  return guess_feedback"
      ],
      "metadata": {
        "id": "RD1qq7l783y5"
      },
      "execution_count": null,
      "outputs": []
    },
    {
      "cell_type": "code",
      "source": [
        "first = [11, 3, 17, 5, 1]\n",
        "second = [20, 2, 17, 3, 1]\n",
        "print(response(first,second))"
      ],
      "metadata": {
        "colab": {
          "base_uri": "https://localhost:8080/"
        },
        "id": "U_jxTlgqwPF0",
        "outputId": "1d2c46be-788b-4b0a-850b-7868b279da7f"
      },
      "execution_count": null,
      "outputs": [
        {
          "output_type": "stream",
          "name": "stdout",
          "text": [
            "BBCXX\n"
          ]
        }
      ]
    },
    {
      "cell_type": "markdown",
      "metadata": {
        "id": "LWshNPjPZJdQ"
      },
      "source": [
        "6.  **Choose the secret code**  \n",
        "The `random` package, and specifically the `sample` sub-package, is useful for generating random samples.  Try running the following lines of code several times.\n",
        "\n"
      ]
    },
    {
      "cell_type": "code",
      "source": [
        "from random import sample\n",
        "\n",
        "sample(range(1,7),4)  # the first argument is the population to be sampled, and the second is the number of samples\n",
        "                      # recall that `range(a,b)` includes `a` but stops at `b-1`\n"
      ],
      "metadata": {
        "id": "OzEZ5BQZ85jV",
        "colab": {
          "base_uri": "https://localhost:8080/"
        },
        "outputId": "26f9a021-f10a-4c9f-b5d8-96f9af309ec3"
      },
      "execution_count": null,
      "outputs": [
        {
          "output_type": "execute_result",
          "data": {
            "text/plain": [
              "[1, 2, 6, 4]"
            ]
          },
          "metadata": {},
          "execution_count": 23
        }
      ]
    },
    {
      "cell_type": "markdown",
      "source": [
        "What type of object is returned by the `sample` function?\n"
      ],
      "metadata": {
        "id": "N1BOe2Xd-kr4"
      }
    },
    {
      "cell_type": "code",
      "source": [
        "int"
      ],
      "metadata": {
        "id": "U5AAu9sG-slX"
      },
      "execution_count": null,
      "outputs": []
    },
    {
      "cell_type": "markdown",
      "source": [
        "7. **Verify the guess**  \n",
        "Finish writing a function called `get_guess` (started below) to prompt the user for a guess and then make sure the input is valid according to the rules of the game.\n",
        "The prompt is already given.  Note that the `list` command converts the input into a list of characters so that it can be passed to the other functions (which are expecting lists).   \n",
        ">**Alert:  you will likely have to think more about data types before this is all over.**"
      ],
      "metadata": {
        "id": "mbK84TdIAVsO"
      }
    },
    {
      "cell_type": "code",
      "source": [
        "\n",
        "# Add code as needed to verify that the guess is legitimate.\n",
        "# Respond to an illegitimate guess with a message telling the user what the rules are\n",
        "# and asking to try again.\n",
        "\n",
        "def get_guess():\n",
        "  '''\n",
        "  prompt the user for a guess and then make sure the input is valid accodring to the rules of the game\n",
        "  '''\n",
        "\n",
        "  while True:\n",
        "    guess_str = input(\"Enter your guess (only 4 digits from 1 to 6 without repitition):\")\n",
        "    guess = list(guess_str)\n",
        "\n",
        "    if len(guess) != 4 or any(not digit.isdigit() for digit in guess):\n",
        "      print (\"Invalid guess! Please enter 4 digit numbers.\")\n",
        "      continue\n",
        "\n",
        "    guess = [int(digit) for digit in guess]\n",
        "\n",
        "    if any(digit < 1 or digit > 6 for digit in guess):\n",
        "      print(\"invalid guess! Every digit must be within the range of 1-6.\")\n",
        "      continue\n",
        "\n",
        "    if len(guess) != len(set(guess)):\n",
        "      print (\"Invalid guess! The digits can not be repeated.\")\n",
        "      continue\n",
        "\n",
        "    return guess\n"
      ],
      "metadata": {
        "id": "13HGg6VvBXSH"
      },
      "execution_count": null,
      "outputs": []
    },
    {
      "cell_type": "markdown",
      "source": [
        "As usual, test your code.  What type of objects are we dealing with here?"
      ],
      "metadata": {
        "id": "PSPYpeZYONf0"
      }
    },
    {
      "cell_type": "code",
      "source": [
        "print('Check guess:', get_guess())"
      ],
      "metadata": {
        "colab": {
          "base_uri": "https://localhost:8080/"
        },
        "id": "3Z5Mue7M3aSq",
        "outputId": "0b1c4705-bd57-420f-fab8-c8fef6bdffb4"
      },
      "execution_count": null,
      "outputs": [
        {
          "output_type": "stream",
          "name": "stdout",
          "text": [
            "Enter your guess (only 4 digits from 1 to 6 without repitition):2342\n",
            "Invalid guess! The digits can not be repeated.\n",
            "Enter your guess (only 4 digits from 1 to 6 without repitition):8432\n",
            "invalid guess! Every digit must be within the range of 1-6.\n",
            "Enter your guess (only 4 digits from 1 to 6 without repitition):ab47\n",
            "Invalid guess! Please enter 4 digit numbers.\n",
            "Enter your guess (only 4 digits from 1 to 6 without repitition):1234\n",
            "Check guess: [1, 2, 3, 4]\n"
          ]
        }
      ]
    },
    {
      "cell_type": "code",
      "source": [
        "# Here, we are dealing with strings and lists as well as integers.\n",
        "# The input takes the guesses as string and with the variable guess, we typecast it to a list.\n",
        "# When we return value, however, it is a list of integers (as we checked the range and repitition.)"
      ],
      "metadata": {
        "id": "ytgf6BfiOPNh"
      },
      "execution_count": null,
      "outputs": []
    },
    {
      "cell_type": "markdown",
      "source": [
        "8. **Put it all together**  \n",
        "Finally, fill in the details of the function `bulls_cows` below so that it will play the game of Bulls and Cows when called.  Note that the function takes no arguments and returns nothing.\n"
      ],
      "metadata": {
        "id": "WdtvUrA4-uzn"
      }
    },
    {
      "cell_type": "code",
      "execution_count": null,
      "metadata": {
        "id": "_u48oidGzRKX"
      },
      "outputs": [],
      "source": [
        "from random import sample\n",
        "\n",
        "def bulls_cows():\n",
        "  '''\n",
        "  This function plays the game \"Bulls and Cows.\"\n",
        "  It takes no arguments and returns nothing.\n",
        "  '''\n",
        "  code= sample(range(1,7),4)  # (finish) computer selects the secret code\n",
        "  for i in range(6):                  # user gets a maximum of 6 guesses\n",
        "    guess= get_guess()                  # (finish) run a function to get a guess\n",
        "    if code==guess:\n",
        "      print(\"You guessed it!\")\n",
        "      return\n",
        "    print(response(code,guess))\n",
        "  print(f\"You have run out of guesses. The secret code was {code}.\")"
      ]
    },
    {
      "cell_type": "markdown",
      "metadata": {
        "id": "NzjqX_9K3OuV"
      },
      "source": [
        "Play the game a few times below.  Make sure it behaves as you think it should!"
      ]
    },
    {
      "cell_type": "code",
      "execution_count": null,
      "metadata": {
        "id": "b-HELV-z3OuW",
        "colab": {
          "base_uri": "https://localhost:8080/"
        },
        "outputId": "1182b5b4-af0d-4f62-a3bf-7fd8053dc9ca"
      },
      "outputs": [
        {
          "output_type": "stream",
          "name": "stdout",
          "text": [
            "Enter your guess (only 4 digits from 1 to 6 without repitition):1234\n",
            "CCCX\n",
            "Enter your guess (only 4 digits from 1 to 6 without repitition):123\n",
            "Invalid guess! Please enter 4 digit numbers.\n",
            "Enter your guess (only 4 digits from 1 to 6 without repitition):8791\n",
            "invalid guess! Every digit must be within the range of 1-6.\n",
            "Enter your guess (only 4 digits from 1 to 6 without repitition):2345\n",
            "CCCX\n",
            "Enter your guess (only 4 digits from 1 to 6 without repitition):3456\n",
            "BBBX\n",
            "Enter your guess (only 4 digits from 1 to 6 without repitition):5647\n",
            "invalid guess! Every digit must be within the range of 1-6.\n",
            "Enter your guess (only 4 digits from 1 to 6 without repitition):3456\n",
            "BBBX\n",
            "Enter your guess (only 4 digits from 1 to 6 without repitition):124\n",
            "Invalid guess! Please enter 4 digit numbers.\n",
            "Enter your guess (only 4 digits from 1 to 6 without repitition):6543\n",
            "CCCX\n",
            "Enter your guess (only 4 digits from 1 to 6 without repitition):1234\n",
            "CCCX\n",
            "You have run out of guesses. The secret code was [3, 4, 2, 6].\n"
          ]
        }
      ],
      "source": [
        "bulls_cows()"
      ]
    },
    {
      "cell_type": "code",
      "source": [
        "bulls_cows()"
      ],
      "metadata": {
        "id": "inzOdtimDfGU",
        "colab": {
          "base_uri": "https://localhost:8080/"
        },
        "outputId": "f4e8bcbf-d1f8-4ba5-b368-f5f367aadd94"
      },
      "execution_count": null,
      "outputs": [
        {
          "output_type": "stream",
          "name": "stdout",
          "text": [
            "Enter your guess (only 4 digits from 1 to 6 without repitition):1234\n",
            "CCCX\n",
            "Enter your guess (only 4 digits from 1 to 6 without repitition):2345\n",
            "CCXX\n",
            "Enter your guess (only 4 digits from 1 to 6 without repitition):3456\n",
            "CCXX\n",
            "Enter your guess (only 4 digits from 1 to 6 without repitition):4561\n",
            "BCCX\n",
            "Enter your guess (only 4 digits from 1 to 6 without repitition):3451\n",
            "CCXX\n",
            "Enter your guess (only 4 digits from 1 to 6 without repitition):2134\n",
            "CCCX\n",
            "You have run out of guesses. The secret code was [4, 6, 1, 2].\n"
          ]
        }
      ]
    },
    {
      "cell_type": "code",
      "source": [
        "bulls_cows()"
      ],
      "metadata": {
        "id": "Eqw-5laFDfkG",
        "colab": {
          "base_uri": "https://localhost:8080/"
        },
        "outputId": "cb16e782-d733-4b49-aed5-5268ff36f61c"
      },
      "execution_count": null,
      "outputs": [
        {
          "output_type": "stream",
          "name": "stdout",
          "text": [
            "Enter your guess (only 4 digits from 1 to 6 without repitition):3214\n",
            "BCXX\n",
            "Enter your guess (only 4 digits from 1 to 6 without repitition):2356\n",
            "BCCC\n",
            "Enter your guess (only 4 digits from 1 to 6 without repitition):1256\n",
            "BBCX\n",
            "Enter your guess (only 4 digits from 1 to 6 without repitition):2345\n",
            "CCCX\n",
            "Enter your guess (only 4 digits from 1 to 6 without repitition):5432\n",
            "CCCX\n",
            "Enter your guess (only 4 digits from 1 to 6 without repitition):4612\n",
            "CCXX\n",
            "You have run out of guesses. The secret code was [6, 2, 5, 3].\n"
          ]
        }
      ]
    },
    {
      "cell_type": "markdown",
      "source": [
        "9. **Reflect**  \n",
        "Think of at least three ways you could change the rules or setup of the game, and in each case describe (in one sentence, you don't need to write code) what you would have to do to modify your code to play the new version of the game.  Use a text box below for each of your ideas."
      ],
      "metadata": {
        "id": "a58-KCX4ELRO"
      }
    },
    {
      "cell_type": "markdown",
      "source": [
        "(1) Maximize the number of attempts by changing the for loop condition for more than 6 guesses under the buuls_cows function.\n",
        "\n"
      ],
      "metadata": {
        "id": "Jof2vIZSEfwo"
      }
    },
    {
      "cell_type": "markdown",
      "source": [
        "(2) Change the length of the secret code under the bulls_cows function for lengthened guesses."
      ],
      "metadata": {
        "id": "f2_QlBavEiqW"
      }
    },
    {
      "cell_type": "markdown",
      "source": [
        "(3) Make repition of numbers (guesses) repetition allowed by taking out the resriction under the get_guess function."
      ],
      "metadata": {
        "id": "sqfq2EFpEjZt"
      }
    }
  ],
  "metadata": {
    "colab": {
      "provenance": [],
      "include_colab_link": true
    },
    "kernelspec": {
      "display_name": "Python 3",
      "name": "python3"
    },
    "language_info": {
      "name": "python"
    }
  },
  "nbformat": 4,
  "nbformat_minor": 0
}