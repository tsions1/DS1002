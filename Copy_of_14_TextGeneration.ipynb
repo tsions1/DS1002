{
  "nbformat": 4,
  "nbformat_minor": 0,
  "metadata": {
    "colab": {
      "provenance": [],
      "include_colab_link": true
    },
    "kernelspec": {
      "name": "python3",
      "display_name": "Python 3"
    },
    "language_info": {
      "name": "python"
    }
  },
  "cells": [
    {
      "cell_type": "markdown",
      "metadata": {
        "id": "view-in-github",
        "colab_type": "text"
      },
      "source": [
        "<a href=\"https://colab.research.google.com/github/tsions1/DS1002/blob/main/Copy_of_14_TextGeneration.ipynb\" target=\"_parent\"><img src=\"https://colab.research.google.com/assets/colab-badge.svg\" alt=\"Open In Colab\"/></a>"
      ]
    },
    {
      "cell_type": "markdown",
      "source": [
        "## Final homework assignment:  generating text from a corpus\n",
        "\n",
        "Due Friday 3 May at 5 pm"
      ],
      "metadata": {
        "id": "tWbrZqoW5281"
      }
    },
    {
      "cell_type": "markdown",
      "source": [
        "We begin by loading all of Shakespeare's plays into a text file, and separating them into individual words.  This is made easy by the fact that someone already made a giant text file of these plays for us, and put it online.\n",
        "\n",
        "[Note that by changing the url in the following code chunk, you can load any text file that lives online in this way . . . see below.]\n",
        "\n",
        "Run the following code.  It should output a list of ten words, starting with 'From' and ending with 'rose'."
      ],
      "metadata": {
        "id": "7tMMjgkjF7gk"
      }
    },
    {
      "cell_type": "code",
      "source": [
        "from urllib.request import urlopen            #package for reading info from the web\n",
        "url='https://ocw.mit.edu/ans7870/6/6.006/s08/lecturenotes/files/t8.shakespeare.txt'   #web address\n",
        "text = urlopen(url).read().decode('utf-8')    #open web address, read file, convert to text\n",
        "shakespeare_words=text.split()[1651:]         #split text into words (not including preamble)\n",
        "shakespeare_words[:10]                        #display the first 10 words"
      ],
      "metadata": {
        "id": "PoW71ljm2GS-",
        "colab": {
          "base_uri": "https://localhost:8080/"
        },
        "outputId": "3d9bc5cf-0256-4482-e5f7-21d17720a8d5"
      },
      "execution_count": null,
      "outputs": [
        {
          "output_type": "execute_result",
          "data": {
            "text/plain": [
              "['From',\n",
              " 'fairest',\n",
              " 'creatures',\n",
              " 'we',\n",
              " 'desire',\n",
              " 'increase,',\n",
              " 'That',\n",
              " 'thereby',\n",
              " \"beauty's\",\n",
              " 'rose']"
            ]
          },
          "metadata": {},
          "execution_count": 41
        }
      ]
    },
    {
      "cell_type": "markdown",
      "source": [
        "## 1. `nextwords` practice\n",
        "\n",
        "Create a practice function called `createNextwordsPractice` which takes a list of words called `wordlist` and returns a dictionary called `nextwordsPractice`. The keys of `nextwordsPractice` should be all the words in `wordlist`, and the value for any given key should be a list of all the words that follow the key word somewhere in the original `wordlist`.\n",
        "\n"
      ],
      "metadata": {
        "id": "AIeohQaAHRF8"
      }
    },
    {
      "cell_type": "code",
      "source": [
        "def createNextwordsPractice(wordlist):\n",
        "  nextwordsPractice = {}\n",
        "  # Put your code here\n",
        "  for i in range(len(wordlist) -1):\n",
        "    the_current_word = wordlist[i]\n",
        "    the_next_word = wordlist[i+1]\n",
        "    if the_current_word in nextwordsPractice:\n",
        "      nextwordsPractice[the_current_word].append(the_next_word)\n",
        "    else:\n",
        "      nextwordsPractice[the_current_word] = [the_next_word]\n",
        "  return nextwordsPractice"
      ],
      "metadata": {
        "id": "2XZa2K3C3InW"
      },
      "execution_count": null,
      "outputs": []
    },
    {
      "cell_type": "markdown",
      "source": [
        "Run the following code:"
      ],
      "metadata": {
        "id": "FH3N2raWjtfd"
      }
    },
    {
      "cell_type": "code",
      "source": [
        "practice = createNextwordsPractice(shakespeare_words)\n",
        "practice['From']"
      ],
      "metadata": {
        "id": "P3M8beYAjiie",
        "colab": {
          "base_uri": "https://localhost:8080/"
        },
        "outputId": "c2a22447-2c6d-46f7-9561-fa5b1638596c"
      },
      "execution_count": null,
      "outputs": [
        {
          "output_type": "execute_result",
          "data": {
            "text/plain": [
              "['fairest',\n",
              " 'his',\n",
              " 'sullen',\n",
              " 'limits',\n",
              " 'hands',\n",
              " 'whence',\n",
              " 'where',\n",
              " 'me',\n",
              " 'this',\n",
              " 'thy',\n",
              " 'hence',\n",
              " 'thee,',\n",
              " 'you',\n",
              " 'heaven',\n",
              " 'her',\n",
              " 'simple',\n",
              " 'whence',\n",
              " 'below',\n",
              " 'lowest',\n",
              " 'courtly',\n",
              " 'son',\n",
              " 'the',\n",
              " 'the',\n",
              " 'Sicyon,',\n",
              " 'Alexandria',\n",
              " 'Silvius,',\n",
              " 'mine',\n",
              " 'the',\n",
              " 'firm',\n",
              " 'Egypt',\n",
              " 'Antony',\n",
              " 'thine',\n",
              " 'that',\n",
              " 'my',\n",
              " 'me',\n",
              " 'henceforth',\n",
              " 'tyrant',\n",
              " 'seventeen',\n",
              " 'miserable',\n",
              " 'whom',\n",
              " 'my',\n",
              " 'whence,',\n",
              " 'me',\n",
              " 'me',\n",
              " 'slaves',\n",
              " 'every',\n",
              " 'rascals',\n",
              " 'whom',\n",
              " 'where',\n",
              " \"th'\",\n",
              " 'Rome',\n",
              " 'off',\n",
              " 'these',\n",
              " 'twelve',\n",
              " \"th'\",\n",
              " 'whence?',\n",
              " 'Rome.',\n",
              " 'thy',\n",
              " 'Gallia',\n",
              " 'fairies',\n",
              " 'off',\n",
              " \"th'\",\n",
              " 'most',\n",
              " 'thy',\n",
              " 'youth',\n",
              " 'every',\n",
              " 'whose',\n",
              " 'so',\n",
              " 'one',\n",
              " 'this',\n",
              " 'the',\n",
              " 'east',\n",
              " 'action',\n",
              " 'my',\n",
              " 'this',\n",
              " 'Leonati',\n",
              " 'her',\n",
              " 'chance',\n",
              " 'south',\n",
              " 'our',\n",
              " 'whence',\n",
              " 'the',\n",
              " 'top',\n",
              " 'this',\n",
              " 'our',\n",
              " 'that',\n",
              " 'me,',\n",
              " 'fashion',\n",
              " 'the',\n",
              " 'another',\n",
              " 'Hamlet?',\n",
              " 'whence',\n",
              " 'whom',\n",
              " \"Rumour's\",\n",
              " 'whence',\n",
              " 'the',\n",
              " 'a',\n",
              " 'a',\n",
              " 'enemies',\n",
              " 'every',\n",
              " 'this',\n",
              " 'the',\n",
              " 'open',\n",
              " 'whom',\n",
              " \"glist'ring\",\n",
              " 'our',\n",
              " 'him,',\n",
              " 'his',\n",
              " 'him,',\n",
              " 'camp',\n",
              " 'this',\n",
              " 'off',\n",
              " 'helmet',\n",
              " 'him',\n",
              " 'off',\n",
              " 'Lionel',\n",
              " 'John',\n",
              " 'famous',\n",
              " 'envious',\n",
              " 'whence',\n",
              " 'thence',\n",
              " 'bought',\n",
              " 'thee,',\n",
              " 'top',\n",
              " 'thence',\n",
              " 'meaning',\n",
              " \"treason's\",\n",
              " 'such',\n",
              " 'thee',\n",
              " 'Ireland',\n",
              " \"Clifford's\",\n",
              " 'your',\n",
              " 'London',\n",
              " 'whence',\n",
              " 'off',\n",
              " 'whence',\n",
              " 'Scotland',\n",
              " 'such',\n",
              " 'worthy',\n",
              " 'these',\n",
              " 'giving',\n",
              " 'France?',\n",
              " 'Ravenspurgh',\n",
              " 'shelves',\n",
              " 'those',\n",
              " 'his',\n",
              " 'sincere',\n",
              " 'every',\n",
              " 'foreign',\n",
              " 'princes',\n",
              " 'these',\n",
              " 'any',\n",
              " 'Ampthill,',\n",
              " 'your',\n",
              " 'hence',\n",
              " 'her',\n",
              " 'henceforth',\n",
              " 'France',\n",
              " 'whom',\n",
              " 'that',\n",
              " 'first',\n",
              " 'north',\n",
              " 'all',\n",
              " 'a',\n",
              " 'his',\n",
              " 'France',\n",
              " 'forth',\n",
              " 'whose',\n",
              " 'forth',\n",
              " 'this',\n",
              " 'out',\n",
              " 'forth',\n",
              " 'that',\n",
              " 'the',\n",
              " 'which',\n",
              " 'whom',\n",
              " 'what',\n",
              " 'the',\n",
              " 'hence',\n",
              " 'this',\n",
              " 'Goneril',\n",
              " 'those',\n",
              " 'seasons',\n",
              " 'that',\n",
              " 'her',\n",
              " 'the',\n",
              " 'a',\n",
              " 'tawny',\n",
              " \"reason's\",\n",
              " 'my',\n",
              " 'which',\n",
              " 'my',\n",
              " 'the',\n",
              " \"women's\",\n",
              " 'whence',\n",
              " \"women's\",\n",
              " 'morn',\n",
              " 'what',\n",
              " 'Fife,',\n",
              " 'hence',\n",
              " 'this',\n",
              " 'thence',\n",
              " 'whom',\n",
              " 'the',\n",
              " 'this',\n",
              " 'whence',\n",
              " 'what',\n",
              " 'over-credulous',\n",
              " 'which',\n",
              " 'too',\n",
              " 'whom',\n",
              " 'his',\n",
              " 'fasting',\n",
              " 'thee;',\n",
              " \"flow'ry\",\n",
              " 'thine',\n",
              " 'such',\n",
              " 'our',\n",
              " 'such',\n",
              " 'the',\n",
              " 'the',\n",
              " 'whom',\n",
              " 'Tripolis,',\n",
              " 'Lisbon,',\n",
              " 'out',\n",
              " 'any',\n",
              " 'brassy',\n",
              " 'stubborn',\n",
              " 'both,',\n",
              " 'the',\n",
              " 'the',\n",
              " 'time',\n",
              " 'Athens',\n",
              " \"lovers'\",\n",
              " 'Perigouna,',\n",
              " 'our',\n",
              " 'sleeping',\n",
              " \"monster's\",\n",
              " 'these',\n",
              " 'off',\n",
              " 'the',\n",
              " 'my',\n",
              " 'Claudio,',\n",
              " 'men',\n",
              " 'year',\n",
              " 'her',\n",
              " 'him',\n",
              " 'one',\n",
              " 'jealousy!',\n",
              " 'whence',\n",
              " 'the',\n",
              " 'any',\n",
              " 'the',\n",
              " 'this',\n",
              " 'giving',\n",
              " 'where',\n",
              " 'forth',\n",
              " 'some',\n",
              " 'Ravenspurgh',\n",
              " 'the',\n",
              " 'forth',\n",
              " 'off',\n",
              " 'my',\n",
              " \"Richard's\",\n",
              " 'out',\n",
              " 'sun',\n",
              " \"plume-pluck'd\",\n",
              " 'which',\n",
              " 'whence',\n",
              " 'your',\n",
              " 'whence',\n",
              " 'cold',\n",
              " 'wayward',\n",
              " 'that',\n",
              " 'this',\n",
              " 'my',\n",
              " 'the',\n",
              " 'all',\n",
              " 'forth',\n",
              " 'which',\n",
              " 'all',\n",
              " 'Tamworth',\n",
              " 'the',\n",
              " 'ancient',\n",
              " 'forth',\n",
              " \"Love's\",\n",
              " 'forth',\n",
              " 'off',\n",
              " 'this',\n",
              " 'all',\n",
              " 'Florence,',\n",
              " 'mine',\n",
              " 'the',\n",
              " 'what',\n",
              " 'me,',\n",
              " 'bogs,',\n",
              " 'me',\n",
              " 'Milan',\n",
              " 'toe',\n",
              " 'eaves',\n",
              " 'strange',\n",
              " 'whence',\n",
              " 'Isidore:',\n",
              " 'our',\n",
              " 'forth',\n",
              " 'change',\n",
              " \"gen'ral\",\n",
              " 'high',\n",
              " 'Alcibiades',\n",
              " 'niggard',\n",
              " 'weary',\n",
              " 'where',\n",
              " 'whence',\n",
              " 'this',\n",
              " 'these',\n",
              " 'thousand',\n",
              " 'heaven!',\n",
              " 'isles',\n",
              " 'his',\n",
              " 'Troy.',\n",
              " \"Cupid's\",\n",
              " 'false',\n",
              " 'certain',\n",
              " 'Troy',\n",
              " 'heart',\n",
              " 'whence,',\n",
              " 'my',\n",
              " 'the',\n",
              " 'the',\n",
              " 'my',\n",
              " 'a',\n",
              " 'hence,',\n",
              " 'Milan.',\n",
              " 'whom?',\n",
              " 'my',\n",
              " 'heartiness,',\n",
              " 'east,',\n",
              " 'course',\n",
              " 'him',\n",
              " 'our',\n",
              " 'all',\n",
              " 'your',\n",
              " 'those',\n",
              " 'the',\n",
              " \"Dis's\",\n",
              " 'the',\n",
              " 'my',\n",
              " 'thy',\n",
              " 'off']"
            ]
          },
          "metadata": {},
          "execution_count": 43
        }
      ]
    },
    {
      "cell_type": "code",
      "source": [
        "practice['rose']"
      ],
      "metadata": {
        "id": "W5FCOXElICLb",
        "colab": {
          "base_uri": "https://localhost:8080/"
        },
        "outputId": "6450a8bb-3d36-4bea-9aa0-dc37744962fa"
      },
      "execution_count": null,
      "outputs": [
        {
          "output_type": "execute_result",
          "data": {
            "text/plain": [
              "['might',\n",
              " 'looks',\n",
              " 'is',\n",
              " 'of',\n",
              " 'Of',\n",
              " 'may',\n",
              " 'will',\n",
              " 'of',\n",
              " 'From',\n",
              " 'and',\n",
              " 'of',\n",
              " 'both',\n",
              " 'with',\n",
              " 'from',\n",
              " 'with',\n",
              " 'with',\n",
              " 'side.',\n",
              " 'red,',\n",
              " 'too.',\n",
              " 'in',\n",
              " 'a',\n",
              " 'a',\n",
              " 'I',\n",
              " 'against',\n",
              " 'that',\n",
              " 'and',\n",
              " 'from',\n",
              " 'again,',\n",
              " 'Lest',\n",
              " 'against',\n",
              " 'Than',\n",
              " \"distill'd\",\n",
              " 'on',\n",
              " 'up',\n",
              " 'in',\n",
              " 'wither.',\n",
              " 'and',\n",
              " 'By',\n",
              " 'again?',\n",
              " 'he']"
            ]
          },
          "metadata": {},
          "execution_count": 44
        }
      ]
    },
    {
      "cell_type": "code",
      "source": [
        "practice['rose.']"
      ],
      "metadata": {
        "id": "Vr57wNx5BO4K",
        "colab": {
          "base_uri": "https://localhost:8080/"
        },
        "outputId": "562623e9-8691-4f8c-c322-b72441796164"
      },
      "execution_count": null,
      "outputs": [
        {
          "output_type": "execute_result",
          "data": {
            "text/plain": [
              "['It']"
            ]
          },
          "metadata": {},
          "execution_count": 45
        }
      ]
    },
    {
      "cell_type": "markdown",
      "source": [
        "## 2. `nextwords` for real:  new sentences.\n",
        "\n",
        "Next, write a new function called `createNextwords` which takes a `wordlist` and returns a dictionary of `nextwords`, but now with a new additional feature.  \n",
        "In addition to the keys from problem 1, add a special key to the dictionary, which will be the symbol '%'.  This key will signify the first word of a sentence. When scanning the wordlist to construct the `nextwords` dictionary, normally you would add `wordlist[i+1]` to the list `nextwords[wordlist[i]]`. However, if `wordlist[i]` ends with a period, then you should instead add `wordlist[i+1]` to the list nextwords['%']. Also add the very first word of `wordlist` to nextwords['%'].\n",
        "\n",
        "\n",
        "You should be able to produce this output:\n",
        "```\n",
        "> shakespeare_nextwords=createNextwords(shakespeare_words)\n",
        "> shakespeare_nextwords['Rose']\n",
        "['at', 'or', 'or', 'and']\n",
        "\n",
        "> shakespeare_nextwords['rose.']\n",
        "[]\n",
        "\n",
        "> len(shakespeare_nextwords['%'])\n",
        "76543\n",
        "```"
      ],
      "metadata": {
        "id": "t221x1X3iRVA"
      }
    },
    {
      "cell_type": "code",
      "source": [
        "def createNextwords(wordlist):\n",
        "  nextwords = {}\n",
        "  # Put your code here\n",
        "  for i in range(len(wordlist) -1):\n",
        "    the_current_word = wordlist[i]\n",
        "    the_next_word = wordlist[i + 1]\n",
        "    if the_current_word.endswith('.'):\n",
        "      if '%' in nextwords:\n",
        "        nextwords['%'].append(the_next_word)\n",
        "      else:\n",
        "        nextwords['%'] = [the_next_word]\n",
        "    else:\n",
        "      if the_current_word in nextwords:\n",
        "        nextwords[the_current_word].append(the_next_word)\n",
        "      else:\n",
        "        nextwords[the_current_word] = [the_next_word]\n",
        "  nextwords['%'].append(wordlist[0])\n",
        "  return nextwords"
      ],
      "metadata": {
        "id": "Ze_-Uv2alRWX"
      },
      "execution_count": null,
      "outputs": []
    },
    {
      "cell_type": "markdown",
      "source": [
        "Run the following code:"
      ],
      "metadata": {
        "id": "x7bamoxBlX6Q"
      }
    },
    {
      "cell_type": "code",
      "source": [
        "shakespeare_nextwords = createNextwords(shakespeare_words)\n",
        "\n",
        "print(shakespeare_nextwords['Rose'])\n",
        "print(len(shakespeare_nextwords['%']))"
      ],
      "metadata": {
        "id": "xv4ANlzvlZ2e",
        "colab": {
          "base_uri": "https://localhost:8080/"
        },
        "outputId": "74d2dd94-8da3-4afa-c0ff-b34656669cce"
      },
      "execution_count": null,
      "outputs": [
        {
          "output_type": "stream",
          "name": "stdout",
          "text": [
            "['at', 'or', 'or', 'and']\n",
            "76543\n"
          ]
        }
      ]
    },
    {
      "cell_type": "code",
      "source": [
        "print(len(shakespeare_nextwords['rose']))"
      ],
      "metadata": {
        "id": "NsLW7PYYCj1r",
        "colab": {
          "base_uri": "https://localhost:8080/"
        },
        "outputId": "bdab54ed-8569-4e5c-ba50-3fd0555bc462"
      },
      "execution_count": null,
      "outputs": [
        {
          "output_type": "stream",
          "name": "stdout",
          "text": [
            "40\n"
          ]
        }
      ]
    },
    {
      "cell_type": "code",
      "source": [
        "print(shakespeare_nextwords['rose.'])"
      ],
      "metadata": {
        "id": "NyjLxUKiIPqG",
        "colab": {
          "base_uri": "https://localhost:8080/",
          "height": 141
        },
        "outputId": "fcc5acab-3024-44f6-ddea-a587b9159b3e"
      },
      "execution_count": null,
      "outputs": [
        {
          "output_type": "error",
          "ename": "KeyError",
          "evalue": "'rose.'",
          "traceback": [
            "\u001b[0;31m---------------------------------------------------------------------------\u001b[0m",
            "\u001b[0;31mKeyError\u001b[0m                                  Traceback (most recent call last)",
            "\u001b[0;32m<ipython-input-49-5ec62f6c566a>\u001b[0m in \u001b[0;36m<cell line: 1>\u001b[0;34m()\u001b[0m\n\u001b[0;32m----> 1\u001b[0;31m \u001b[0mprint\u001b[0m\u001b[0;34m(\u001b[0m\u001b[0mshakespeare_nextwords\u001b[0m\u001b[0;34m[\u001b[0m\u001b[0;34m'rose.'\u001b[0m\u001b[0;34m]\u001b[0m\u001b[0;34m)\u001b[0m\u001b[0;34m\u001b[0m\u001b[0;34m\u001b[0m\u001b[0m\n\u001b[0m",
            "\u001b[0;31mKeyError\u001b[0m: 'rose.'"
          ]
        }
      ]
    },
    {
      "cell_type": "markdown",
      "source": [
        "## 3.  Make your own Shakespeare play\n",
        "\n",
        "Okay, that may be a bit of an exaggeration.  Anyway, next up is text generation.  \n",
        "We'll need the choice function:"
      ],
      "metadata": {
        "id": "BCIAfYSIX3VC"
      }
    },
    {
      "cell_type": "code",
      "source": [
        "from random import choice"
      ],
      "metadata": {
        "id": "rbBHDv55Biae"
      },
      "execution_count": null,
      "outputs": []
    },
    {
      "cell_type": "markdown",
      "source": [
        "\n",
        "\n",
        "```\n",
        "# This is formatted as code\n",
        "```\n",
        "\n",
        "This function chooses a random element from a list.  Run this code a few times:"
      ],
      "metadata": {
        "id": "-vCM3Z0BmAw9"
      }
    },
    {
      "cell_type": "code",
      "source": [
        "choice([1, 17, 34, 289])"
      ],
      "metadata": {
        "colab": {
          "base_uri": "https://localhost:8080/"
        },
        "id": "FGMf-UmAl_uf",
        "outputId": "25a321c7-53f0-47c8-c3c8-ed7781002536"
      },
      "execution_count": null,
      "outputs": [
        {
          "output_type": "execute_result",
          "data": {
            "text/plain": [
              "34"
            ]
          },
          "metadata": {},
          "execution_count": 51
        }
      ]
    },
    {
      "cell_type": "markdown",
      "source": [
        "Now, create a function called `makePlay(nextwords,n)` which takes a dictionary `nextwords` and a number `n`, and follows these steps:\n",
        "1. Define an empty `newplay` string.  (I did this for you.)\n",
        "2. Set `currentword` equal to '%'.\n",
        "3. Start a for-loop that will run `n` times.\n",
        "4. Randomly choose a word from the list `nextwords[currentword]`.\n",
        "5. Add the chosen word to `newplay`, followed by a space `' '` character.\n",
        "6. If the chosen word ends in a period, add a newline character '\\n' and set `currentword` equal to `%`.\n",
        "7. Otherwise, set `currentword` equal to the chosen word.\n",
        "8. Go back to step 4.\n",
        "9. When all `n` iterations have finished, your function should return `newplay`."
      ],
      "metadata": {
        "id": "ZmLqxclQYMpl"
      }
    },
    {
      "cell_type": "code",
      "source": [
        "def makePlay(nextwords,n):\n",
        "  newplay=''\n",
        "  #YOUR CODE HERE\n",
        "  the_current_word = '%'\n",
        "  for _ in range (n):\n",
        "    word_chosen = choice(nextwords[the_current_word])\n",
        "    newplay += word_chosen + ' '\n",
        "\n",
        "    if word_chosen.endswith('.'):\n",
        "      newplay += '\\n'\n",
        "      the_current_word = '%'\n",
        "    else:\n",
        "      the_current_word = word_chosen\n",
        "\n",
        "  return newplay\n"
      ],
      "metadata": {
        "id": "gMxDF-MiYqD2"
      },
      "execution_count": null,
      "outputs": []
    },
    {
      "cell_type": "markdown",
      "source": [
        "Now create a 1000 word Shakesperian play by running the following code:"
      ],
      "metadata": {
        "id": "v_uCxqDZtuhP"
      }
    },
    {
      "cell_type": "code",
      "source": [
        "nextwords=createNextwords(shakespeare_words)\n",
        "newplay=makePlay(nextwords,1000)\n",
        "print(newplay)"
      ],
      "metadata": {
        "id": "KVtzPXWWEdDR",
        "colab": {
          "base_uri": "https://localhost:8080/"
        },
        "outputId": "3d03aa1b-3d75-47b2-a017-a67f2442755e"
      },
      "execution_count": null,
      "outputs": [
        {
          "output_type": "stream",
          "name": "stdout",
          "text": [
            "My chastity's the Sophy and naked, and colors. \n",
            "Wouldst thou tak'st from us no bliss, Hold off by pangs of de la coutume de pardonner aucun prisonnier, neamnoins, pour in, That we cram thee all idle; let me from my dignity, Shall I protest, we here comes the clergy yet cut out of the little in this neighbour-stained steel- What he been The Volsces shunning him. \n",
            "What should in his solemn talk. \n",
            "ROSALINE. \n",
            "Wor. \n",
            "But then they nothing ill office Becomes not plead mine begin to be the mute and loos'd; And gentlemen in the store, So far gone to be gone. \n",
            "The effect The intertissued robe of the strict to think the wisest. \n",
            "[To AGAMEMNON] My throat shall serve not be here, rap me well, The seasons have took. \n",
            "Enter Ursula. \n",
            "You dissembling looks, and never leak, And that's offer'd, Nor shall be so righteously temper'd thee gone. \n",
            "I am sorry for't, I'll force and draw on them to thrust virtue of your powers. \n",
            "Come, come, Can you at him by me demand your eyes: Now trust the prison'd bird, And yet he writes of all. \n",
            "Thou 'rt best, O dolt! As I am asham'd With gentle wounded craves a petition granted that, when she other issue? Prince. \n",
            "Keep comfort that ruin'd piece of all the ring of fools. \n",
            "What's like dew! Or any private wound of 'Two boys, There lies dead; Go make you mar your voices heartily. \n",
            "O Lord, sir! MENENIUS. \n",
            "Nay, more, I cannot keep it. \n",
            "Exit Edgar. \n",
            "What say you, To fine little one out. \n",
            "SECOND GENTLEMAN. \n",
            "Lady. \n",
            "ROSALIND. \n",
            "Great Jupiter, Were it shall have done ill, Be advis'd. \n",
            "How now, Cromwell! Had they buy his would cozen somebody had rather be friends; But Dover Castle. \n",
            "A good nor seek for it that joy for thieves to thy love, I came wand'ring by your honour! [Flourish. \n",
            "APEMANTUS. \n",
            "LAFEU. \n",
            "Enter DUKE OF ILLINOIS BENEDICTINE COLLEGE WITH PERMISSION. \n",
            "All this? Am I have set you are; or seven year before. \n",
            "Set him yet- SILVIA. \n",
            "Here. \n",
            "His princess, Thou shalt thou wert thou hast no more bound to good That it by a carbuncle In pity he did he knew thou canst thou up the flint bears the fault on mine, As motion of her cheek, he is some indirect means stretch'd; And here this world must root and Willoughby, With sweetest last, Before Angiers Enter, with the disdain WOLSEY. \n",
            "You'll give thy hands abroad that hast thou shalt not deny that I am determined to annoy our counsel. \n",
            "MARCUS. \n",
            "Yet Benedick and her base prayers then to make known unto her might. \n",
            "TITUS. \n",
            "Poins. \n",
            "PANDARUS. \n",
            "ANGELO. \n",
            "SERVANT. \n",
            "Troy, Thou hast, I am cross'd with her wrong me with sin; But come near the heads by tyranny. \n",
            "When expect my prize? Ha, ha! Have wak'd him, sweet thoughts do arrest you married? Jul. \n",
            "Nay, follow me. \n",
            "O yes. \n",
            "ANDROMACHE. \n",
            "[aside] Wormwood, wormwood! Queen. \n",
            "'Five or two. \n",
            "Between nine in the crown] POINS. \n",
            "Here to prison, Th' important letters-this ill it means I did raise; What rhubarb, cyme, or thrice. \n",
            "Therefore, bring you with you. \n",
            "Ay, forsooth. \n",
            "My lord, there was Samson had banished on the order in power. \n",
            "You come to make the bear them told: Thy father's house Enter ANTONY, general in hope, sir, be called so over-cool their proper fellow Who, disciplined, ay, my portly gentleman, almost spent; I know The Count Orsino's mistress, that, fool. \n",
            "Of all night, Unless by the night, your youth, Falstaff, Bardolph, and moreover, bully-but first: [Aside to be accommodated; which will do. \n",
            "Thus to thee. \n",
            "Let not paint her death; For my lord! YORK. \n",
            "Do not yet for thee Were you had to you we have promised. \n",
            "Come, we'll dance. \n",
            "ANNE. \n",
            "This day That I heard it be less, ere this evening; and MENAS MENAS. \n",
            "Thou hast quarrell'd with HERMIONE standing thus and all their blood remov'd with declining head and our dominions; But will put it is gone, and this night. \n",
            "Madam, I do, But on mine either? SIR TOBY. \n",
            "Hear me, get afire by his pride. \n",
            "And hold up these words could not doubt, shortly known to repay that have come, we are heap'd happiness and ready at good Master Silence, I beseech you, noble names, your charge, Do you encounter with the waters that it is now I am so she strikes at their powerful to lay fretting by them; Where, but first false generations. \n",
            "And we will weep for it that audit stands, That is set them the story of your brave attendants KING RICHARD. \n",
            "Let it was a beard thee Sweet beauty till I like of brothers in this should purchase mocking of tedious days, I guess, Upon my fear, Which way to your blood, my brother Troilus now! whose miseries are they. \n",
            "CASSIUS. \n",
            "SOMERSET. \n",
            "Things small thing constant will I call upon with you. \n",
            "Let's see; Those which vain 'To Silvia'! And no portion in the world. \n",
            "Him keep thou mayst thou lunatics? Hast thou, if that is the field were best to the wife and brain little paler; pray thee? Yea, but dead. \n",
            "Leon. \n",
            "I have been loosed out of my hopes and the afternoon, Barnardine. \n",
            "LAFEU. \n",
            "FALSTAFF. \n",
            "Open the rain hot that hath murd'red me. \n",
            "And so I myself will embrace thee; His coming here. \n",
            "Good my Richard says, and prosperity! Who was come about the will; and bulk; but I the truth; Which for his meat in the mourning weeds make them a lost his armourer, my way you When it in profit, but woe for you. \n",
            "Common mother, madam; was my closet. \n",
            "I came to the time thou not to Angelo. \n",
            "OLIVIA. \n",
            "PUCK. \n",
            "About a prayer have a dwelling. \n",
            "What news with a craven scruple Of homage, and hand to us to parfect one Taurus. \n",
            "I myself as 'tis; so much I did so great weeds the misty mouth. \n",
            "Scene III. \n",
            "BUCKINGHAM. \n",
            "Come on, We'll make her the world into the crown; He never tarry. \n",
            "WIFE. \n",
            "All the woeful than \n"
          ]
        }
      ]
    },
    {
      "cell_type": "markdown",
      "source": [
        "At this point you might enjoy finding other sources of text on the internet and replacing the url at the top of this notebook. You can use song lyrics, news articles, etc. You just need to find files ending with '.txt'. Alternatively, you can copy and paste any block of text from any file into colab, assign it to the variable `text`, and then use wordlist=text.split() to get a list of words."
      ],
      "metadata": {
        "id": "cHcYHBcNu65y"
      }
    },
    {
      "cell_type": "markdown",
      "source": [
        "## Bonus:\n",
        "\n",
        "Recall the following recursive function that we used to define the Fibonacci numbers:"
      ],
      "metadata": {
        "id": "SOZ_vzwJoG45"
      }
    },
    {
      "cell_type": "code",
      "source": [
        "def fibonacci(n):\n",
        "  # Base cases: F(0) = 0, F(1) = 1\n",
        "  if n == 0:\n",
        "    return 0\n",
        "  elif n == 1:\n",
        "    return 1\n",
        "  else:\n",
        "    # Recursive case: F(n) = F(n-1) + F(n-2)\n",
        "    return fibonacci(n - 1) + fibonacci(n - 2)\n"
      ],
      "metadata": {
        "id": "KTj2L--_oQDu"
      },
      "execution_count": null,
      "outputs": []
    },
    {
      "cell_type": "markdown",
      "source": [
        "Here is the question.  If you run this line of code:  \n",
        "`fibonacci(17)`  \n",
        "how many times does the function `fibonacci()` get called?  \n",
        "(The answer is not 1597, which is the value returned by the function.)"
      ],
      "metadata": {
        "id": "C-PtiPKwod0m"
      }
    },
    {
      "cell_type": "code",
      "source": [
        "fibonacci(17)"
      ],
      "metadata": {
        "colab": {
          "base_uri": "https://localhost:8080/"
        },
        "id": "7YLJjoafKDdu",
        "outputId": "57d20202-d0ba-4875-aa69-6271edac6932"
      },
      "execution_count": null,
      "outputs": [
        {
          "output_type": "execute_result",
          "data": {
            "text/plain": [
              "1597"
            ]
          },
          "metadata": {},
          "execution_count": 55
        }
      ]
    },
    {
      "cell_type": "markdown",
      "source": [
        "how many times does the function fibonacci() get called? = 131,072"
      ],
      "metadata": {
        "id": "SE2geFRvKV0n"
      }
    }
  ]
}