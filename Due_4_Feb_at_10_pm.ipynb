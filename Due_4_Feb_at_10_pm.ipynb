{
  "cells": [
    {
      "cell_type": "markdown",
      "metadata": {
        "id": "view-in-github",
        "colab_type": "text"
      },
      "source": [
        "<a href=\"https://colab.research.google.com/github/tsions1/DS1002/blob/main/Due_4_Feb_at_10_pm.ipynb\" target=\"_parent\"><img src=\"https://colab.research.google.com/assets/colab-badge.svg\" alt=\"Open In Colab\"/></a>"
      ]
    },
    {
      "cell_type": "markdown",
      "metadata": {
        "id": "zAw2bmn-TjFJ"
      },
      "source": [
        "## DS 1002 homework due Sunday Feb 4 at 10 pm\n"
      ]
    },
    {
      "cell_type": "markdown",
      "metadata": {
        "id": "Cmf4xleCSWCu"
      },
      "source": [
        "\n",
        "The notebook from Wednesday's class is in my GitHib repository, including the little script we wrote at the end to find mangos in a list of fruit.  The file is called `MorePythonBasics.ipynb`.\n",
        "\n",
        "(By the way I wondered if the correct spelling was \"mangos\" or \"mangoes\" and I found [this](https://www.mango.org/blog-mangos-or-mangoes/)!  Who knew?  There's a National Mango Board!  And they're prepared to adjudicate this and other difficult mango-related questions.)\n",
        "\n",
        "\n"
      ]
    },
    {
      "cell_type": "markdown",
      "metadata": {
        "id": "rJLyGryAThhp"
      },
      "source": [
        "### Problem 1:  finding fruit\n",
        "\n",
        "Adapt the function we wrote in class so that it takes two arguments,\n",
        "\n",
        "`fruit` and `hungryfor` ,\n",
        "\n",
        "and then searches through the list `fruit` for the item `hungryfor`.  The line that calls the function should look like\n",
        "\n",
        "`find_fruit(food, hungryfor)`\n",
        "\n",
        "Make it print out the results in the same way, so for example if `food` is what we entered in class and `hungryfor = \"tomatoes\"` then the output will be\n",
        "\n",
        "```python\n",
        "No tomatoes here.\n",
        "No tomatoes here.\n",
        "No tomatoes here.\n",
        "No tomatoes here.\n",
        "No tomatoes here.\n",
        "```\n",
        "Test your code by changing the values of `food` and `hungryfor` and make sure the output is what you expect.  Show a few outputs, each in its own code chunk.\n",
        "\n"
      ]
    },
    {
      "cell_type": "code",
      "execution_count": 43,
      "metadata": {
        "id": "YXwLLFCt6H2f"
      },
      "outputs": [],
      "source": [
        "# put code here\n",
        "\n",
        "food = [\"apples\", \"oranges\", \"mangos\", \"bananas\", \"blueberries\"]\n",
        "hungryfor = \"tomatoes\"\n",
        "\n",
        "def find_fruit(fruit, hungryfor):\n",
        "  for fghj in fruit:\n",
        "    if fghj == hungryfor:\n",
        "      print(\"Hooray!  I found \" + hungryfor + \" .\")\n",
        "    else:\n",
        "      print(\"No \" + hungryfor + \" here.\")\n",
        "\n"
      ]
    },
    {
      "cell_type": "code",
      "execution_count": 44,
      "metadata": {
        "id": "bYdqsfrh6KnE",
        "colab": {
          "base_uri": "https://localhost:8080/"
        },
        "outputId": "e7a7451d-1d4f-4b83-eaab-8b9d3195005b"
      },
      "outputs": [
        {
          "output_type": "stream",
          "name": "stdout",
          "text": [
            "No tomatoes here.\n",
            "No tomatoes here.\n",
            "No tomatoes here.\n",
            "No tomatoes here.\n",
            "No tomatoes here.\n"
          ]
        }
      ],
      "source": [
        "# put your first function call here, and make more code chunks for additional function calls\n",
        "\n",
        "find_fruit(food, hungryfor)"
      ]
    },
    {
      "cell_type": "markdown",
      "metadata": {
        "id": "AMp-a1ym6W7w"
      },
      "source": [
        "#### Notes\n",
        "1. Once you have run a code chunk in the notebook, it will remember that it has been run.  You don't have to call the function in the same code chunk where the function is defined.  In other words, to call the function with new inputs you can simply make a new code chunk, change the inputs, and call the function.  *You don't have to retype the definition of the function each time.*\n",
        "\n",
        "2. Make sure you clean things up when you're done, so you don't include old code that doesn't work or old incorrect outputs.\n"
      ]
    },
    {
      "cell_type": "markdown",
      "metadata": {
        "id": "R-s9cZ6GYWNX"
      },
      "source": [
        "### Problem 2:  the `input()` function\n",
        "\n",
        "(a) Programming gets way more fun when you start to interact with your own programs!  Here is a function that lets you start doing that.  Run the following code and see what happens:\n"
      ]
    },
    {
      "cell_type": "code",
      "execution_count": 45,
      "metadata": {
        "colab": {
          "base_uri": "https://localhost:8080/"
        },
        "id": "IEK8O2qNYkXn",
        "outputId": "10fe01dd-9d49-4409-905b-eaae9d43a819"
      },
      "outputs": [
        {
          "output_type": "stream",
          "name": "stdout",
          "text": [
            "hi\n",
            "Hello there!\n"
          ]
        }
      ],
      "source": [
        "input()\n",
        "print(\"Hello there!\")"
      ]
    },
    {
      "cell_type": "markdown",
      "metadata": {
        "id": "sktZu8wWzFF6"
      },
      "source": [
        "(b) As you just saw, the code waits for you to enter something before it continues.  If you want to actually use the input in the code, you should assign its value to a variable:"
      ]
    },
    {
      "cell_type": "code",
      "execution_count": 46,
      "metadata": {
        "colab": {
          "base_uri": "https://localhost:8080/"
        },
        "id": "fMmBkzbyz9Ty",
        "outputId": "9dd9f196-1a96-428b-e87d-a0e741bc3400"
      },
      "outputs": [
        {
          "output_type": "stream",
          "name": "stdout",
          "text": [
            "hi\n",
            "hi\n"
          ]
        }
      ],
      "source": [
        "message = input()\n",
        "print(message)"
      ]
    },
    {
      "cell_type": "markdown",
      "metadata": {
        "id": "ny41z-dQYmjQ"
      },
      "source": [
        "(c) Now you can start interacting.  Write some code that asks the user what they are hungry for (using a print statement), and then takes the user input, and then runs the `find_fruit` function from the previous code block using the user input as the `hungryfor` variable.  Test your code, and then include a few different outputs that demonstrate that the code works."
      ]
    },
    {
      "cell_type": "code",
      "execution_count": 49,
      "metadata": {
        "colab": {
          "base_uri": "https://localhost:8080/"
        },
        "id": "SKAVoAZ00xOx",
        "outputId": "8bca792b-8f13-45a8-a66c-728949d13ef4"
      },
      "outputs": [
        {
          "output_type": "stream",
          "name": "stdout",
          "text": [
            "What are you hungry for?\n",
            "lemons\n",
            "Hooray!  I found lemons .\n",
            "No lemons here.\n",
            "No lemons here.\n",
            "No lemons here.\n",
            "No lemons here.\n"
          ]
        }
      ],
      "source": [
        "# put code here\n",
        "\n",
        "print(\"What are you hungry for?\")\n",
        "user_input = input()\n",
        "food2 = [\"lemons\", \"peaches\", \"apricot\", \"melons\", \"berries\"]\n",
        "find_fruit(food2, user_input)"
      ]
    },
    {
      "cell_type": "code",
      "execution_count": 51,
      "metadata": {
        "id": "sQQVP1oa5dR7",
        "colab": {
          "base_uri": "https://localhost:8080/"
        },
        "outputId": "2d768c09-6906-4353-a80d-ace9103e69e0"
      },
      "outputs": [
        {
          "output_type": "stream",
          "name": "stdout",
          "text": [
            "melons\n",
            "No melons here.\n",
            "No melons here.\n",
            "No melons here.\n",
            "Hooray!  I found melons .\n",
            "No melons here.\n"
          ]
        }
      ],
      "source": [
        "# run it here, and add more code chunks for more runs\n",
        "\n",
        "user_input = input()\n",
        "find_fruit(food2, user_input)"
      ]
    },
    {
      "cell_type": "markdown",
      "metadata": {
        "id": "5CWOlHBz0xoZ"
      },
      "source": [
        "### Problem 3:  ratings  \n",
        "Write a piece of code which prompts a user with the question \"What is your rating? (1-10)\" and then asks for user input.  Let's say the input is 3.  Once the input is received, print out a message that says.\n",
        "\n",
        "\"Your rating is *** .\"\n",
        "\n",
        "Obviously, your program should print the number of stars corresponding to the input!  If the input is 5, it should print\n",
        "\n",
        "\"Your rating is ***** .\"\n",
        "\n",
        "Show at least two outputs of your code."
      ]
    },
    {
      "cell_type": "code",
      "execution_count": 40,
      "metadata": {
        "id": "MCWnTAUW2Gin",
        "colab": {
          "base_uri": "https://localhost:8080/"
        },
        "outputId": "906855d4-b38e-427b-f40a-0867cf9ac211"
      },
      "outputs": [
        {
          "output_type": "stream",
          "name": "stdout",
          "text": [
            "What is your rating? (1-10)\n",
            "10\n",
            "Your rating is **********.\n"
          ]
        }
      ],
      "source": [
        "# put code here\n",
        "\n",
        "print (\"What is your rating? (1-10)\")\n",
        "rating = input()\n",
        "print(\"Your rating is \" + (int(rating) * \"*\") + \".\")"
      ]
    },
    {
      "cell_type": "code",
      "execution_count": 41,
      "metadata": {
        "id": "nxm67oCk8Ukn",
        "colab": {
          "base_uri": "https://localhost:8080/"
        },
        "outputId": "cbbb5795-e779-4f3b-94ee-66295bb75250"
      },
      "outputs": [
        {
          "output_type": "stream",
          "name": "stdout",
          "text": [
            "What is your rating? (1-10)\n",
            "3\n",
            "Your rating is ***.\n"
          ]
        }
      ],
      "source": [
        "# you might have to copy the code to show another output\n",
        "# (unless you figure out another way to do it)\n",
        "print (\"What is your rating? (1-10)\")\n",
        "rating = input()\n",
        "print(\"Your rating is \" + (int(rating) * \"*\") + \".\")"
      ]
    },
    {
      "cell_type": "markdown",
      "metadata": {
        "id": "VRfc9puT2yac"
      },
      "source": [
        "You do not have to do this as part of the assignment, but one thing to think about with any code that has **interactivity** is that you want to make it **robust**.  This means you should imagine someone is *trying* to break your code, and you should try to make it as indestructible as possible.\n",
        "\n",
        "What will happen to your code if someone enters 3.5?  Or -12?  Or \"nonsense\"?  Test it and see.  Think about how you might guard against errors.\n"
      ]
    }
  ],
  "metadata": {
    "colab": {
      "provenance": [],
      "include_colab_link": true
    },
    "kernelspec": {
      "display_name": "Python 3",
      "name": "python3"
    },
    "language_info": {
      "name": "python"
    }
  },
  "nbformat": 4,
  "nbformat_minor": 0
}