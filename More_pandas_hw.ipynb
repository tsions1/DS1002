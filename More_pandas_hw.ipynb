{
  "nbformat": 4,
  "nbformat_minor": 0,
  "metadata": {
    "colab": {
      "provenance": [],
      "include_colab_link": true
    },
    "kernelspec": {
      "name": "python3",
      "display_name": "Python 3"
    },
    "language_info": {
      "name": "python"
    }
  },
  "cells": [
    {
      "cell_type": "markdown",
      "metadata": {
        "id": "view-in-github",
        "colab_type": "text"
      },
      "source": [
        "<a href=\"https://colab.research.google.com/github/tsions1/DS1002/blob/main/More_pandas_hw.ipynb\" target=\"_parent\"><img src=\"https://colab.research.google.com/assets/colab-badge.svg\" alt=\"Open In Colab\"/></a>"
      ]
    },
    {
      "cell_type": "markdown",
      "source": [],
      "metadata": {
        "id": "XHndH2vIQxkz"
      }
    },
    {
      "cell_type": "markdown",
      "source": [
        "Eden Mulugeta (unb6ny)\n",
        "Tsion Sahle (cnb8jw)"
      ],
      "metadata": {
        "id": "DxIVtLliBBFQ"
      }
    },
    {
      "cell_type": "markdown",
      "source": [
        " Load the following dataset into Colab and perform the requested operations in code.\n",
        "\n",
        " Task 1"
      ],
      "metadata": {
        "id": "69JSZEigQpix"
      }
    },
    {
      "cell_type": "code",
      "source": [
        "# Load pandas and the data\n",
        "\n",
        "import pandas as pd\n",
        "link = \"https://ds1002-resources.s3.amazonaws.com/data/ride_sharing.csv\"\n",
        "df = pd.read_csv(link)"
      ],
      "metadata": {
        "id": "_XPwkTWUBNbO"
      },
      "execution_count": null,
      "outputs": []
    },
    {
      "cell_type": "code",
      "source": [
        "# show how many rows and columns are in this dataset\n",
        "\n",
        "print (\"No of rows:\", df.shape[0])\n",
        "print (\"No of colums:\", df.shape [1])"
      ],
      "metadata": {
        "colab": {
          "base_uri": "https://localhost:8080/"
        },
        "id": "LDYxxRrKCMRV",
        "outputId": "75af93dd-7b65-4809-bae5-51ca5878e2d0"
      },
      "execution_count": null,
      "outputs": [
        {
          "output_type": "stream",
          "name": "stdout",
          "text": [
            "No of rows: 25760\n",
            "No of colums: 10\n"
          ]
        }
      ]
    },
    {
      "cell_type": "code",
      "source": [
        "# The first column, \"duration\" is seen as a string.\n",
        "# Using two snippets of code, clean this column up so that\n",
        "# is now an integer (int64)\n",
        "\n",
        "df['duration'] = df['duration'].str.strip('miuntes')\n",
        "df['duration'] = df['duration'].astype('int64')"
      ],
      "metadata": {
        "id": "6TyY2UznENlx"
      },
      "execution_count": null,
      "outputs": []
    },
    {
      "cell_type": "markdown",
      "source": [],
      "metadata": {
        "id": "5axrXCidG1du"
      }
    },
    {
      "cell_type": "code",
      "source": [
        "# Now display the datatypes in the updated dataframe\n",
        "\n",
        "print(df['duration'])"
      ],
      "metadata": {
        "colab": {
          "base_uri": "https://localhost:8080/"
        },
        "id": "BxShiejLGQQ5",
        "outputId": "580cbd99-1259-422f-a37f-084f118790d8"
      },
      "execution_count": null,
      "outputs": [
        {
          "output_type": "stream",
          "name": "stdout",
          "text": [
            "0        12\n",
            "1        24\n",
            "2         8\n",
            "3         4\n",
            "4        11\n",
            "         ..\n",
            "25755    11\n",
            "25756    10\n",
            "25757    14\n",
            "25758    14\n",
            "25759    29\n",
            "Name: duration, Length: 25760, dtype: int64\n"
          ]
        }
      ]
    },
    {
      "cell_type": "code",
      "source": [
        "# Show the min and max values of ride durations (the shortest and longest rides)\n",
        "# Hint: If 'df' is the name of your dataframe, simply specify the column name\n",
        "# and then append the .min() or .max() methods.\n",
        "\n",
        "min_duration = df['duration'].min()\n",
        "max_duration = df['duration'].max()\n",
        "\n",
        "print (\"Min duration:\", min_duration)\n",
        "print (\"Max duration:\", max_duration)"
      ],
      "metadata": {
        "colab": {
          "base_uri": "https://localhost:8080/"
        },
        "id": "xSLJSY4yG_yL",
        "outputId": "1f7d5612-d89b-49f0-e46c-50318b6f1d6d"
      },
      "execution_count": null,
      "outputs": [
        {
          "output_type": "stream",
          "name": "stdout",
          "text": [
            "Min duration: 1\n",
            "Max duration: 1372\n"
          ]
        }
      ]
    },
    {
      "cell_type": "code",
      "source": [
        "# Create a new dataframe object and populate it with rides that are 60 minutes or less.\n",
        "# Hint: Use the .query() method for the dataframe that we used in class.\n",
        "\n",
        "df_less_than_60 = df.query('duration <= 60')"
      ],
      "metadata": {
        "id": "UqpH69GMIOk3"
      },
      "execution_count": null,
      "outputs": []
    },
    {
      "cell_type": "code",
      "source": [
        "# Now show both the min and max values of the duration column for your new dataset.\n",
        "\n",
        "print (\"Min duration 60 or less:\", df_less_than_60['duration'].min())\n",
        "print (\"Max duration 60 or less:\", df_less_than_60['duration'].max())"
      ],
      "metadata": {
        "colab": {
          "base_uri": "https://localhost:8080/"
        },
        "id": "COAX4W7DJzhJ",
        "outputId": "014c1c9c-3f63-4b77-ef87-cc47f48d8d3f"
      },
      "execution_count": null,
      "outputs": [
        {
          "output_type": "stream",
          "name": "stdout",
          "text": [
            "Min duration 60 or less: 1\n",
            "Max duration 60 or less: 60\n"
          ]
        }
      ]
    },
    {
      "cell_type": "code",
      "source": [
        "# Using the new dataframe, update it so that is ONLY has records where\n",
        "# the tire_size is 26.\n",
        "\n",
        "df_less_than_60_and_26 = df_less_than_60[df_less_than_60['tire_size'] == 26]\n"
      ],
      "metadata": {
        "id": "tOiNo9JWK20I"
      },
      "execution_count": null,
      "outputs": []
    },
    {
      "cell_type": "code",
      "source": [
        "# Finally, produce a count of all records with FEMALE riders\n",
        "# using the 26-inch wheeled rental bikes for their rentals of\n",
        "# one hour or less.\n",
        "\n",
        "female_riders_df = df_less_than_60_and_26[df_less_than_60_and_26['user_gender']=='Female']\n",
        "female_riders_count = female_riders_df.shape[0]\n",
        "print (\"Number of female riders using 26-inch wheeled rental bikes for their rentals of one hour or less:\", female_riders_count)"
      ],
      "metadata": {
        "colab": {
          "base_uri": "https://localhost:8080/"
        },
        "id": "pg00NP4GNE6v",
        "outputId": "053b1213-29fc-4425-d634-47f8cdffb3e4"
      },
      "execution_count": null,
      "outputs": [
        {
          "output_type": "stream",
          "name": "stdout",
          "text": [
            "Number of female riders using 26-inch wheeled rental bikes for their rentals of one hour or less: 2962\n"
          ]
        }
      ]
    },
    {
      "cell_type": "markdown",
      "source": [
        "Find the file more-messy-data.csv on GitHub and upload it into Google Colab.\n",
        "\n",
        "Create a new Pandas DataFrame from that data and perform the following steps.[link text](https://)"
      ],
      "metadata": {
        "id": "NvXeyMlgQ1nj"
      }
    },
    {
      "cell_type": "code",
      "source": [
        "# Write a snippet of code that will display the number of duplicate rows exist in the DF.\n",
        "import pandas as pd\n",
        "\n",
        "url = \"https://raw.githubusercontent.com/tsions1/DS1002-S24/main/data/more-messy-data.csv\"\n",
        "df = pd.read_csv(url)\n",
        "\n",
        "duplicate_rows = df.duplicated().sum()\n",
        "print(\"Number of duplicate rows:\", duplicate_rows)\n",
        "\n"
      ],
      "metadata": {
        "colab": {
          "base_uri": "https://localhost:8080/"
        },
        "id": "1Ig2p-FQNI_H",
        "outputId": "dcf501dc-093b-42d1-95ec-c54af13e2966"
      },
      "execution_count": null,
      "outputs": [
        {
          "output_type": "stream",
          "name": "stdout",
          "text": [
            "Number of duplicate rows: 287\n"
          ]
        }
      ]
    },
    {
      "cell_type": "code",
      "source": [
        "# Next, remove all duplicate rows using Python.\n",
        "\n",
        "df = df.drop_duplicates()"
      ],
      "metadata": {
        "id": "L6HQnPDGTrfI"
      },
      "execution_count": null,
      "outputs": []
    },
    {
      "cell_type": "code",
      "source": [
        "# For the FOUR columns involving sepal and petal length and width, update all NaN\n",
        "# values with the column mean.\n",
        "\n",
        "update_columns = ['sepal_length', 'sepal_width', 'petal_length', 'petal_width']\n",
        "\n",
        "df[update_columns] = df[update_columns].apply(pd.to_numeric, errors= \"coerce\")\n",
        "\n",
        "for column in update_columns:\n",
        "  column_mean = df[column].mean()\n",
        "  df[column].fillna(column_mean, inplace=True)"
      ],
      "metadata": {
        "id": "kvjILKn4o8nE"
      },
      "execution_count": null,
      "outputs": []
    },
    {
      "cell_type": "code",
      "source": [
        "# Find any values in the dataframe that are still missing, and delete them.\n",
        "\n",
        "update_columns = ['sepal_length', 'sepal_width', 'petal_length', 'petal_length']\n",
        "for column in update_columns:\n",
        "  df[column].fillna(df[column].mean(), inplace=True)\n",
        "\n",
        "df_drop_missing = df.dropna(subset = update_columns)"
      ],
      "metadata": {
        "id": "fa-DRvT_rOOD"
      },
      "execution_count": null,
      "outputs": []
    },
    {
      "cell_type": "code",
      "source": [
        "# How many different species are there?\n",
        "\n",
        "num_species = df['species'].unique()\n",
        "num_species_count = len(num_species)\n",
        "print (\"Number of different species:\", num_species_count)\n"
      ],
      "metadata": {
        "id": "R1a5TKg_sUcK",
        "colab": {
          "base_uri": "https://localhost:8080/"
        },
        "outputId": "0df204fc-8e9d-4c3c-f7f5-3fae6040bed4"
      },
      "execution_count": null,
      "outputs": [
        {
          "output_type": "stream",
          "name": "stdout",
          "text": [
            "Number of different species: 8\n"
          ]
        }
      ]
    },
    {
      "cell_type": "code",
      "source": [
        "# Clean up the 'species' variable so that there are exactly three different values.\n",
        "\n",
        "print (\"Unique species before cleaning:\")\n",
        "print(df['species'].unique)\n",
        "\n",
        "df['species'] = df['species'].str.lower()\n",
        "\n",
        "wanted_species = ['setosa', 'versicolor', 'virginica']\n",
        "cleaned_df = df[df['species'].isin(wanted_species)]\n",
        "print (\"Unique species after it is cleaned:\")\n",
        "print (cleaned_df['species'].unique())"
      ],
      "metadata": {
        "colab": {
          "base_uri": "https://localhost:8080/"
        },
        "id": "uzvQrCjDyQaP",
        "outputId": "79a3029d-151f-4514-c7ea-b3245718a1d6"
      },
      "execution_count": null,
      "outputs": [
        {
          "output_type": "stream",
          "name": "stdout",
          "text": [
            "Unique species before cleaning:\n",
            "<bound method Series.unique of 0        virginica\n",
            "1           setosa\n",
            "3        virginica\n",
            "4        virginica\n",
            "5           setosa\n",
            "           ...    \n",
            "1309    Versicolor\n",
            "1310    Versicolor\n",
            "1312    Versicolor\n",
            "1313    Versicolor\n",
            "1315    Versicolor\n",
            "Name: species, Length: 628, dtype: object>\n",
            "Unique species after it is cleaned:\n",
            "['virginica' 'setosa' 'versicolor']\n"
          ]
        }
      ]
    }
  ]
}