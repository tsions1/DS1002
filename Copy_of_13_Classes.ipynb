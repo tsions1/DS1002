{
  "nbformat": 4,
  "nbformat_minor": 0,
  "metadata": {
    "colab": {
      "provenance": [],
      "include_colab_link": true
    },
    "kernelspec": {
      "name": "python3",
      "display_name": "Python 3"
    },
    "language_info": {
      "name": "python"
    }
  },
  "cells": [
    {
      "cell_type": "markdown",
      "metadata": {
        "id": "view-in-github",
        "colab_type": "text"
      },
      "source": [
        "<a href=\"https://colab.research.google.com/github/tsions1/DS1002/blob/main/Copy_of_13_Classes.ipynb\" target=\"_parent\"><img src=\"https://colab.research.google.com/assets/colab-badge.svg\" alt=\"Open In Colab\"/></a>"
      ]
    },
    {
      "cell_type": "markdown",
      "source": [
        "## Assignment:  Classes\n",
        "### Due Sunday 28 April at 10pm"
      ],
      "metadata": {
        "id": "5Vy93BSp9Tum"
      }
    },
    {
      "cell_type": "markdown",
      "source": [
        "Name: Eden Mulugeta, Tsion Sahle"
      ],
      "metadata": {
        "id": "zPHOpH9wIzfq"
      }
    },
    {
      "cell_type": "markdown",
      "source": [
        "1.  Define a class called `Person` that has attributes `lastName`, `firstName`, `mother`, and `father`.  Both `mother` and `father` should have default value `unknown`.\n",
        "\n",
        "  Include a `__str__()` function that returns a string of the form '`firstName` `lastName`'.\n",
        "\n",
        "  Include a `__repr__()` function that returns a string that can be evaluated to recreate the `Person` object.\n",
        "\n"
      ],
      "metadata": {
        "id": "vcj5XQAI9Wsb"
      }
    },
    {
      "cell_type": "code",
      "source": [
        "class Person:\n",
        "  def __init__(self, lastName, firstName, mother = 'unkown', father = 'unkown'):\n",
        "    self.lastName = lastName\n",
        "    self.firstName = firstName\n",
        "    self.mother = mother\n",
        "    self.father = father\n",
        "\n",
        "  def __str__(self):\n",
        "    return self.firstName + \" \" + self.lastName\n",
        "\n",
        "  def __repr__(self):\n",
        "    return \"Person('\" + self.lastName + \"', '\" + self.firstName + \"', '\" + self.mother + \"', '\" + self.father + \"')\""
      ],
      "metadata": {
        "id": "mjHDwHv3EpVe"
      },
      "execution_count": null,
      "outputs": []
    },
    {
      "cell_type": "markdown",
      "source": [
        "Create a person (i.e., a `Person` object) called `p` with unknown parents.  (You will need to give your person a first and last name.) Check the type of `p`.  Include all inputs and outputs."
      ],
      "metadata": {
        "id": "-ppMsEIVHINl"
      }
    },
    {
      "cell_type": "code",
      "source": [
        "p = Person (\"Melanie\", \"Johnson\")"
      ],
      "metadata": {
        "id": "5bwid_6gHIBH"
      },
      "execution_count": null,
      "outputs": []
    },
    {
      "cell_type": "markdown",
      "source": [
        "Verify that your `__str__` and `__repr__` functions are doing what they are supposed to do.  Include all inputs and outputs."
      ],
      "metadata": {
        "id": "Z6zlUC3xRtal"
      }
    },
    {
      "cell_type": "code",
      "source": [
        "print(str(p))\n",
        "print(repr(p))"
      ],
      "metadata": {
        "id": "jZO0dBQYRs-K",
        "colab": {
          "base_uri": "https://localhost:8080/"
        },
        "outputId": "ffcfa74d-6d85-4fcb-9d8d-f3e1baaa6e25"
      },
      "execution_count": null,
      "outputs": [
        {
          "output_type": "stream",
          "name": "stdout",
          "text": [
            "Johnson Melanie\n",
            "Person('Melanie', 'Johnson', 'unkown', 'unkown')\n"
          ]
        }
      ]
    },
    {
      "cell_type": "markdown",
      "source": [
        "Suppose the mother of `p` has been found and is named Taylor Swift.  Create a new person named Taylor Swift, and make her the mother of `p`:\n",
        "\n",
        "```\n",
        "> p.mother\n",
        "'Taylor Swift'\n",
        "```"
      ],
      "metadata": {
        "id": "1mOAThQiHzoQ"
      }
    },
    {
      "cell_type": "code",
      "source": [
        "taylor_swift = Person(\"Swift\", \"Taylor\")\n",
        "\n",
        "p.mother = taylor_swift\n",
        "\n",
        "print(p.mother)"
      ],
      "metadata": {
        "id": "NYbDOorpHymz",
        "colab": {
          "base_uri": "https://localhost:8080/"
        },
        "outputId": "65b455a4-55b6-4f3e-8bba-2497ac2aa505"
      },
      "execution_count": null,
      "outputs": [
        {
          "output_type": "stream",
          "name": "stdout",
          "text": [
            "Taylor Swift\n"
          ]
        }
      ]
    },
    {
      "cell_type": "markdown",
      "source": [
        "2.  Add some methods to your class.  Start by copying the `class` definition you already wrote.  Then, inside the `class` definition:\n",
        "\n",
        "  (a) Write a method called `unknownParent()` which returns `True` if any parent is 'unknown' and `False` otherwise.\n",
        "\n",
        "  (b) Write a method called `maternalGrandmother()` which returns the mother's mother.  If the mother is unknown, it should return 'unknown'.\n",
        "\n"
      ],
      "metadata": {
        "id": "1g1pcrmFHzGh"
      }
    },
    {
      "cell_type": "code",
      "source": [
        "class Person:\n",
        "    def __init__(self, lastName, firstName, mother='unknown', father='unknown'):\n",
        "        self.lastName = lastName\n",
        "        self.firstName = firstName\n",
        "        self.mother = mother\n",
        "        self.father = father\n",
        "\n",
        "    def __str__(self):\n",
        "        return self.firstName + \" \" + self.lastName\n",
        "\n",
        "    def __repr__(self):\n",
        "        return \"Person('\" + self.lastName + \"', '\" + self.firstName + \"', '\" + self.mother + \"', '\" + self.father + \"')\"\n",
        "\n",
        "    def unknownParent(self):\n",
        "        return self.mother == 'unknown' or self.father == 'unknown'\n",
        "\n",
        "    def maternalGrandmother(self):\n",
        "        if self.mother == 'unknown' or self.mother is None:\n",
        "            return 'unknown'\n",
        "        elif isinstance(self.mother, Person):\n",
        "            if self.mother.mother == 'unknown' or self.mother.mother is None:\n",
        "                return 'unknown'\n",
        "            else:\n",
        "                return self.mother.mother\n",
        "        else:\n",
        "            return 'unknown'"
      ],
      "metadata": {
        "id": "7mIxJGwwKTpv"
      },
      "execution_count": null,
      "outputs": []
    },
    {
      "cell_type": "markdown",
      "source": [
        "Create enough `Person` objects to test whether your methods are working properly.  Show all your inputs and outputs.  It is up to you to demonstrate that you have thoroughly tested the code.  You may use additional code and/or text chunks if it helps."
      ],
      "metadata": {
        "id": "l9-4gxd8FxAQ"
      }
    },
    {
      "cell_type": "code",
      "source": [
        "p1 = Person(\"Tsion\", \"Sahle\", \"Genet\", \"Admekew\")  # Tsion's parents (both known)\n",
        "p2 = Person(\"Eden\", \"Mulugeta\", \"Frehiwet\", \"Wondwossen\")  # Eden's parents (both known) and granmother known too\n",
        "p3 = Person(\"Abebe\", \"Belachew\")  # Both parents unknown\n",
        "p4 = Person(\"Chala\", \"Chebechebe\", father=\"Demelaw\")  # Mother unknown\n",
        "p5 = Person(\"Chebude\", \"Asmelash\", \"Askalech\")  # Father unknown\n",
        "\n",
        "Frehiwet = Person(\"Frehiwet\", \"unknown\", \"Tete\")\n",
        "Askalech = Person(\"Askalech\", \"unknown\", \"Mimi\")\n",
        "\n",
        "p1.mother = Frehiwet\n",
        "p2.mother = Askalech\n",
        "\n",
        "print(p1.unknownParent())  # False\n",
        "print(p2.unknownParent())  # False\n",
        "print(p3.unknownParent())  # True\n",
        "print(p4.unknownParent())  # True\n",
        "print(p5.unknownParent())  # True\n",
        "\n",
        "print(p1.maternalGrandmother())  # Tete\n",
        "print(p2.maternalGrandmother())  # Mimi\n",
        "print(p3.maternalGrandmother())  # unknown\n",
        "print(p4.maternalGrandmother())  # unknown\n",
        "print(p5.maternalGrandmother())  # unknown\n"
      ],
      "metadata": {
        "id": "gX1qpcKzFwoZ",
        "colab": {
          "base_uri": "https://localhost:8080/"
        },
        "outputId": "c8e5c2e8-b5a1-49ec-8b76-a0a3829b92d0"
      },
      "execution_count": null,
      "outputs": [
        {
          "output_type": "stream",
          "name": "stdout",
          "text": [
            "False\n",
            "False\n",
            "True\n",
            "True\n",
            "True\n",
            "Tete\n",
            "Mimi\n",
            "unknown\n",
            "unknown\n",
            "unknown\n"
          ]
        }
      ]
    }
  ]
}